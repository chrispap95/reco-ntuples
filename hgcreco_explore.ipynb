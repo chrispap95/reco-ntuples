{
 "metadata": {
  "language_info": {
   "codemirror_mode": {
    "name": "ipython",
    "version": 3
   },
   "file_extension": ".py",
   "mimetype": "text/x-python",
   "name": "python",
   "nbconvert_exporter": "python",
   "pygments_lexer": "ipython3",
   "version": "3.9.3-final"
  },
  "orig_nbformat": 2,
  "kernelspec": {
   "name": "python3",
   "display_name": "Python 3"
  }
 },
 "nbformat": 4,
 "nbformat_minor": 2,
 "cells": [
  {
   "source": [
    "## HGCAL RecoNtuples in Coffea format\n",
    "\n",
    "This notebook demonstrate exploring the HGCAL RecoNtuples in coffea notation. Here we will just be loading in the various libraries here. Save an `hgcalNtuple.root` to the same directory as where the notebook server was initialized."
   ],
   "cell_type": "markdown",
   "metadata": {}
  },
  {
   "cell_type": "code",
   "execution_count": null,
   "metadata": {},
   "outputs": [],
   "source": [
    "import numpy as np\n",
    "import awkward as ak\n",
    "from coffea.nanoevents import NanoEventsFactory\n",
    "from coffea.nanoevents.schemas import BaseSchema\n",
    "from hgcreco_schema import HGCRecoSchema\n",
    "\n",
    "events = NanoEventsFactory.from_root(\"file:hgcalNtuple.root\",\n",
    "                                     \"ana/hgc\",\n",
    "                                     entry_stop=1000,\n",
    "                                     schemaclass=HGCRecoSchema,\n",
    "                                     ).events()"
   ]
  },
  {
   "source": [
    "All particle/coordinates will have there components in common representations (cylindrical, spherical, cartesian) generate on the fly via predefined nanoevents behaviour."
   ],
   "cell_type": "markdown",
   "metadata": {}
  },
  {
   "cell_type": "code",
   "execution_count": null,
   "metadata": {},
   "outputs": [],
   "source": [
    "print(events.genpart.pt)\n",
    "print(events.genpart.px)\n",
    "print(events.track.pt)\n",
    "print(events.track.pos.x)\n",
    "print(events.track.pos.r)"
   ]
  },
  {
   "source": [
    "For composite structures (clusters), an index to the hits within the cluster is stored. You can used the following snippet to construct a structer similar to the nest-list structure."
   ],
   "cell_type": "markdown",
   "metadata": {}
  },
  {
   "cell_type": "code",
   "execution_count": null,
   "metadata": {},
   "outputs": [],
   "source": [
    "# Making a copy of the collection of interest to work with. \n",
    "calopoart = events.calopart[:] \n",
    "simcluster = events.simcluster[:] \n",
    "\n",
    "# Creating the index for which a simcluster appear in the list.\n",
    "simcluster['idx'] = ak.local_index(simcluster.pt, axis=-1)  \n",
    "print(simcluster.idx)\n",
    "\n",
    "# Expand out the simcluster to match the dimension of the calopart.\n",
    "_, simcluster = ak.unzip( ak.cartesian([calopart, simcluster], nested=True))\n",
    "\n",
    "# Adding matched sim cluster colletion to the calopart collection based on stored index.\n",
    "calopart['simcluster'] = simclusters[simcluster.idx == calopart.simCluster.idx]\n",
    "\n",
    "# Use calopart.simcluster as a nest collection.\n",
    "print(calopart.simcluster.simEnergy)\n"
   ]
  }
 ]
}