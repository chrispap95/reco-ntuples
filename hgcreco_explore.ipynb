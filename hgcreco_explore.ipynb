{
 "metadata": {
  "language_info": {
   "codemirror_mode": {
    "name": "ipython",
    "version": 3
   },
   "file_extension": ".py",
   "mimetype": "text/x-python",
   "name": "python",
   "nbconvert_exporter": "python",
   "pygments_lexer": "ipython3",
   "version": "3.9.3-final"
  },
  "orig_nbformat": 2,
  "kernelspec": {
   "name": "python3",
   "display_name": "Python 3"
  }
 },
 "nbformat": 4,
 "nbformat_minor": 2,
 "cells": [
  {
   "source": [
    "## HGCAL RecoNtuples in Coffea format\n",
    "\n",
    "This notebook demonstrate exploring the HGCAL RecoNtuples in coffea notation"
   ],
   "cell_type": "markdown",
   "metadata": {}
  },
  {
   "cell_type": "code",
   "execution_count": 2,
   "metadata": {},
   "outputs": [
    {
     "output_type": "stream",
     "name": "stderr",
     "text": [
      "/home/ensc/VirtualENV/coffeaenv/lib/python3.8/site-packages/coffea/nanoevents/mapping.py:218: UserWarning: Skipping gunparticle_id as it is not interpretable by NanoEvents\n  warnings.warn(\n/home/ensc/VirtualENV/coffeaenv/lib/python3.8/site-packages/coffea/nanoevents/mapping.py:218: UserWarning: Skipping gunparticle_energy as it is not interpretable by NanoEvents\n  warnings.warn(\n/home/ensc/VirtualENV/coffeaenv/lib/python3.8/site-packages/coffea/nanoevents/mapping.py:218: UserWarning: Skipping gunparticle_pt as it is not interpretable by NanoEvents\n  warnings.warn(\n/home/ensc/VirtualENV/coffeaenv/lib/python3.8/site-packages/coffea/nanoevents/mapping.py:218: UserWarning: Skipping gunparticle_eta as it is not interpretable by NanoEvents\n  warnings.warn(\n/home/ensc/VirtualENV/coffeaenv/lib/python3.8/site-packages/coffea/nanoevents/mapping.py:218: UserWarning: Skipping gunparticle_phi as it is not interpretable by NanoEvents\n  warnings.warn(\n"
     ]
    },
    {
     "output_type": "error",
     "ename": "AttributeError",
     "evalue": "no field named 'gunparticle'\n\n(https://github.com/scikit-hep/awkward-1.0/blob/0.4.5/src/awkward1/highlevel.py#L1084)",
     "traceback": [
      "\u001b[0;31m---------------------------------------------------------------------------\u001b[0m",
      "\u001b[0;31mAttributeError\u001b[0m                            Traceback (most recent call last)",
      "\u001b[0;32m<ipython-input-2-7e25862bdcfc>\u001b[0m in \u001b[0;36m<module>\u001b[0;34m\u001b[0m\n\u001b[1;32m     11\u001b[0m                                      ).events()\n\u001b[1;32m     12\u001b[0m \u001b[0;34m\u001b[0m\u001b[0m\n\u001b[0;32m---> 13\u001b[0;31m \u001b[0mevents\u001b[0m\u001b[0;34m.\u001b[0m\u001b[0mgunparticle\u001b[0m\u001b[0;34m.\u001b[0m\u001b[0mpt\u001b[0m\u001b[0;34m\u001b[0m\u001b[0;34m\u001b[0m\u001b[0m\n\u001b[0m",
      "\u001b[0;32m~/VirtualENV/coffeaenv/lib/python3.8/site-packages/awkward1/highlevel.py\u001b[0m in \u001b[0;36m__getattr__\u001b[0;34m(self, where)\u001b[0m\n\u001b[1;32m   1080\u001b[0m                     )\n\u001b[1;32m   1081\u001b[0m             \u001b[0;32melse\u001b[0m\u001b[0;34m:\u001b[0m\u001b[0;34m\u001b[0m\u001b[0;34m\u001b[0m\u001b[0m\n\u001b[0;32m-> 1082\u001b[0;31m                 raise AttributeError(\n\u001b[0m\u001b[1;32m   1083\u001b[0m                     \u001b[0;34m\"no field named {0}\"\u001b[0m\u001b[0;34m.\u001b[0m\u001b[0mformat\u001b[0m\u001b[0;34m(\u001b[0m\u001b[0mrepr\u001b[0m\u001b[0;34m(\u001b[0m\u001b[0mwhere\u001b[0m\u001b[0;34m)\u001b[0m\u001b[0;34m)\u001b[0m\u001b[0;34m\u001b[0m\u001b[0;34m\u001b[0m\u001b[0m\n\u001b[1;32m   1084\u001b[0m                     \u001b[0;34m+\u001b[0m \u001b[0mawkward1\u001b[0m\u001b[0;34m.\u001b[0m\u001b[0m_util\u001b[0m\u001b[0;34m.\u001b[0m\u001b[0mexception_suffix\u001b[0m\u001b[0;34m(\u001b[0m\u001b[0m__file__\u001b[0m\u001b[0;34m)\u001b[0m\u001b[0;34m\u001b[0m\u001b[0;34m\u001b[0m\u001b[0m\n",
      "\u001b[0;31mAttributeError\u001b[0m: no field named 'gunparticle'\n\n(https://github.com/scikit-hep/awkward-1.0/blob/0.4.5/src/awkward1/highlevel.py#L1084)"
     ]
    }
   ],
   "source": [
    "import numpy as np\n",
    "import awkward as ak\n",
    "from coffea.nanoevents import NanoEventsFactory\n",
    "from coffea.nanoevents.schemas import BaseSchema\n",
    "from hgcreco_schema import HGCRecoSchema\n",
    "\n",
    "events = NanoEventsFactory.from_root(\"file:hgcalNtuple.root\",\n",
    "                                     \"ana/hgc\",\n",
    "                                     entry_stop=1000,\n",
    "                                     schemaclass=HGCRecoSchema,\n",
    "                                     ).events()\n",
    "\n",
    "events.gunparticle.pt"
   ]
  },
  {
   "cell_type": "code",
   "execution_count": null,
   "metadata": {},
   "outputs": [],
   "source": []
  }
 ]
}